{
 "cells": [
  {
   "cell_type": "code",
   "execution_count": 1,
   "id": "ab98e876-82f7-4120-b48c-3a90fd026ba9",
   "metadata": {},
   "outputs": [
    {
     "name": "stdout",
     "output_type": "stream",
     "text": [
      "Requirement already satisfied: Faker in /home/htknphuong/workspace/DataEngineerProject-CMC/DE1/lib/python3.10/site-packages (15.3.2)\n",
      "Requirement already satisfied: python-dateutil>=2.4 in /home/htknphuong/workspace/DataEngineerProject-CMC/DE1/lib/python3.10/site-packages (from Faker) (2.8.2)\n",
      "Requirement already satisfied: six>=1.5 in /home/htknphuong/workspace/DataEngineerProject-CMC/DE1/lib/python3.10/site-packages (from python-dateutil>=2.4->Faker) (1.16.0)\n",
      "\n",
      "\u001b[1m[\u001b[0m\u001b[34;49mnotice\u001b[0m\u001b[1;39;49m]\u001b[0m\u001b[39;49m A new release of pip available: \u001b[0m\u001b[31;49m22.3\u001b[0m\u001b[39;49m -> \u001b[0m\u001b[32;49m22.3.1\u001b[0m\n",
      "\u001b[1m[\u001b[0m\u001b[34;49mnotice\u001b[0m\u001b[1;39;49m]\u001b[0m\u001b[39;49m To update, run: \u001b[0m\u001b[32;49mpip install --upgrade pip\u001b[0m\n"
     ]
    }
   ],
   "source": [
    "!pip install Faker"
   ]
  },
  {
   "cell_type": "code",
   "execution_count": 2,
   "id": "14d99565-fce1-478a-bef1-982859553d60",
   "metadata": {},
   "outputs": [
    {
     "name": "stdout",
     "output_type": "stream",
     "text": [
      "22/11/16 16:40:44 WARN Utils: Your hostname, htknphuong-virtual-machine resolves to a loopback address: 127.0.1.1; using 192.168.142.129 instead (on interface ens33)\n",
      "22/11/16 16:40:44 WARN Utils: Set SPARK_LOCAL_IP if you need to bind to another address\n"
     ]
    },
    {
     "name": "stderr",
     "output_type": "stream",
     "text": [
      "Setting default log level to \"WARN\".\n",
      "To adjust logging level use sc.setLogLevel(newLevel). For SparkR, use setLogLevel(newLevel).\n"
     ]
    },
    {
     "name": "stdout",
     "output_type": "stream",
     "text": [
      "22/11/16 16:40:44 WARN NativeCodeLoader: Unable to load native-hadoop library for your platform... using builtin-java classes where applicable\n"
     ]
    }
   ],
   "source": [
    "from pyspark.sql import SparkSession\n",
    "spark = SparkSession \\\n",
    "    .builder \\\n",
    "    .appName(\"Python Spark Customer Fact Generator\") \\\n",
    "    .getOrCreate()"
   ]
  },
  {
   "cell_type": "code",
   "execution_count": 4,
   "id": "86d26b9b-4b71-4a6b-8813-10754218bf95",
   "metadata": {},
   "outputs": [],
   "source": [
    "columns = [\"CustomerID\",\"FirstName\",\"MiddleName\",\"LastName\", \\\n",
    "           \"PerManentAdd\",\"Zipcode\",\"Age\",\"Gender\",\"Email\", \\\n",
    "           \"PhoneNumber\",\"PrimaryAccNumber\",\"OccupationTitle\", \\\n",
    "           \"Salary\",\"OccupationTypeTitle\",\"OccupationJobTitle\", \\\n",
    "           \"IdentityType\",\"IdentityNumber\",\"CustomerType\",\"TaxCode\", \\\n",
    "           \"MainBusinessType\",\"OtherBusinessType\",\"RepresentiveID\", \\\n",
    "           \"ChiefAccountantID\",\"CompanyTypeTitle\",\"UpdateDate\", \\\n",
    "           \"OlderCustomerSaveID\",\"NewestCustomerInfo\",\"MainAccountID\" \\\n",
    "          ]\n"
   ]
  },
  {
   "cell_type": "code",
   "execution_count": 7,
   "id": "1d7857b3-e534-4e7a-88bc-d75ff5971e90",
   "metadata": {
    "tags": []
   },
   "outputs": [
    {
     "ename": "TypeError",
     "evalue": "SparkSession.createDataFrame() missing 1 required positional argument: 'data'",
     "output_type": "error",
     "traceback": [
      "\u001b[0;31m---------------------------------------------------------------------------\u001b[0m",
      "\u001b[0;31mTypeError\u001b[0m                                 Traceback (most recent call last)",
      "Cell \u001b[0;32mIn [7], line 1\u001b[0m\n\u001b[0;32m----> 1\u001b[0m MainDf \u001b[38;5;241m=\u001b[39m \u001b[43mspark\u001b[49m\u001b[38;5;241;43m.\u001b[39;49m\u001b[43mcreateDataFrame\u001b[49m\u001b[43m(\u001b[49m\u001b[43m)\u001b[49m\u001b[38;5;241m.\u001b[39mtoDF(\u001b[38;5;241m*\u001b[39mcolumns)\n",
      "\u001b[0;31mTypeError\u001b[0m: SparkSession.createDataFrame() missing 1 required positional argument: 'data'"
     ]
    }
   ],
   "source": [
    "MainDf = spark.createDataFrame().toDF(*columns)"
   ]
  },
  {
   "cell_type": "code",
   "execution_count": null,
   "id": "402639e3-f96a-4e47-9808-68f49d9991be",
   "metadata": {},
   "outputs": [],
   "source": []
  }
 ],
 "metadata": {
  "kernelspec": {
   "display_name": "Python 3 (ipykernel)",
   "language": "python",
   "name": "python3"
  },
  "language_info": {
   "codemirror_mode": {
    "name": "ipython",
    "version": 3
   },
   "file_extension": ".py",
   "mimetype": "text/x-python",
   "name": "python",
   "nbconvert_exporter": "python",
   "pygments_lexer": "ipython3",
   "version": "3.10.6"
  }
 },
 "nbformat": 4,
 "nbformat_minor": 5
}
