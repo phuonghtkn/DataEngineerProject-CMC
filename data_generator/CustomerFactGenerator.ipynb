{
 "cells": [
  {
   "cell_type": "code",
   "execution_count": 1,
   "id": "0d69aab3-b906-4105-8237-7b027a293188",
   "metadata": {},
   "outputs": [],
   "source": [
    "CONFIG_FILE_PATH_PREFIX = 'cfg/'\n",
    "CONFIG_TMP_FILE_PATH_PREFIX = 'cfg/tmp/'\n",
    "CONFIG_BACKUP_FILE_PATH_PREFIX = 'cfg/backup/'\n",
    "\n",
    "OUTPUT_FILE_PATH_PREFIX = 'output/'\n",
    "OUTPUT_TMP_FILE_PATH_PREFIX = 'output/tmp/'\n",
    "\n",
    "CONFIG_NUMBER = 1000"
   ]
  },
  {
   "cell_type": "code",
   "execution_count": 2,
   "id": "ab98e876-82f7-4120-b48c-3a90fd026ba9",
   "metadata": {},
   "outputs": [],
   "source": [
    "#!pip install Faker"
   ]
  },
  {
   "cell_type": "code",
   "execution_count": 3,
   "id": "14d99565-fce1-478a-bef1-982859553d60",
   "metadata": {},
   "outputs": [
    {
     "name": "stdout",
     "output_type": "stream",
     "text": [
      "22/11/22 10:36:27 WARN Utils: Your hostname, htknphuong-virtual-machine resolves to a loopback address: 127.0.1.1; using 192.168.142.129 instead (on interface ens33)\n",
      "22/11/22 10:36:27 WARN Utils: Set SPARK_LOCAL_IP if you need to bind to another address\n"
     ]
    },
    {
     "name": "stderr",
     "output_type": "stream",
     "text": [
      "Setting default log level to \"WARN\".\n",
      "To adjust logging level use sc.setLogLevel(newLevel). For SparkR, use setLogLevel(newLevel).\n"
     ]
    },
    {
     "name": "stdout",
     "output_type": "stream",
     "text": [
      "22/11/22 10:36:27 WARN NativeCodeLoader: Unable to load native-hadoop library for your platform... using builtin-java classes where applicable\n"
     ]
    }
   ],
   "source": [
    "import sys\n",
    "import pyspark\n",
    "from pyspark.sql import SparkSession, Row\n",
    "from pyspark.sql.types import StructType,StructField, StringType\n",
    "spark = SparkSession \\\n",
    "    .builder \\\n",
    "    .appName(\"Python Spark Customer Fact Generator\") \\\n",
    "    .getOrCreate()"
   ]
  },
  {
   "cell_type": "code",
   "execution_count": 4,
   "id": "893b0b34-99fc-4fe0-ad17-bdd7204f829e",
   "metadata": {},
   "outputs": [
    {
     "name": "stdout",
     "output_type": "stream",
     "text": [
      "-----------------\n",
      "customerrecordidis not exist\n",
      "begin to creating customerrecordid\n",
      "-----------------\n",
      "begin to creating defaultcustomerrecordid\n",
      "customeridis not exist\n",
      "begin to creating customerid\n",
      "-----------------\n",
      "begin to creating defaultcustomerid\n",
      "passpost_identitynumberis not exist\n",
      "begin to creating passpost_identitynumber\n",
      "-----------------\n",
      "begin to creating defaultpasspost_identitynumber\n",
      "govementid_identitynumberis not exist\n",
      "begin to creating govementid_identitynumber\n",
      "-----------------\n",
      "begin to creating defaultgovementid_identitynumber\n",
      "company_identitynumberis not exist\n",
      "begin to creating company_identitynumber\n",
      "-----------------\n",
      "begin to creating defaultcompany_identitynumber\n",
      "chiefaccountantidis not exist\n",
      "begin to creating chiefaccountantid\n",
      "-----------------\n",
      "begin to creating defaultchiefaccountantid\n",
      "oldercustomersaveidis not exist\n",
      "begin to creating oldercustomersaveid\n",
      "-----------------\n",
      "begin to creating defaultoldercustomersaveid\n",
      "mainaccountidis not exist\n",
      "begin to creating mainaccountid\n",
      "-----------------\n",
      "begin to creating defaultmainaccountid\n",
      "taxcodeis not exist\n",
      "begin to creating taxcode\n",
      "-----------------\n",
      "begin to creating defaulttaxcode\n"
     ]
    }
   ],
   "source": [
    "##Reading the config from file for max id\n",
    "import os.path\n",
    "idConfig = {\n",
    "    \"customerrecordid\": 10000000,\n",
    "    \"customerid\": 10000000,\n",
    "    \"passpost_identitynumber\": 111111111,\n",
    "    \"govementid_identitynumber\": 111111111,\n",
    "    \"company_identitynumber\": 111111111,\n",
    "    \"chiefaccountantid\": 10000000,\n",
    "    \"oldercustomersaveid\": 10000000,\n",
    "    \"mainaccountid\": 10000000,\n",
    "    \"taxcode\": 0,\n",
    "}\n",
    "print('-----------------')\n",
    "for file in idConfig.keys():\n",
    "    file_exist = os.path.exists(CONFIG_FILE_PATH_PREFIX+file)\n",
    "    if (file_exist):\n",
    "        print(file + ' is exist')\n",
    "        print('begin loading' + file)\n",
    "        realFile = open(CONFIG_FILE_PATH_PREFIX+file,\"r\")\n",
    "        idConfig[file] = int(realFile.readlines()[0])\n",
    "        realFile.close()\n",
    "    else:\n",
    "        print(file + 'is not exist')\n",
    "        print('begin to creating ' + file)\n",
    "        realFile = open(CONFIG_FILE_PATH_PREFIX+file,\"w+\")\n",
    "        realFile.seek(0)\n",
    "        realFile.write(str(idConfig[file]))\n",
    "        realFile.close()\n",
    "    print('-----------------')\n",
    "    print('begin to creating ' + 'default' + file )\n",
    "    realFile = open(CONFIG_FILE_PATH_PREFIX+'default'+file,\"w+\")\n",
    "    realFile.seek(0)\n",
    "    realFile.write(str(idConfig[file]))\n",
    "    realFile.close()"
   ]
  },
  {
   "cell_type": "code",
   "execution_count": 5,
   "id": "f71e7d9c-06de-4226-833b-527fb72a6195",
   "metadata": {},
   "outputs": [],
   "source": [
    "import random\n",
    "import faker\n",
    "from datetime import datetime\n",
    "import re\n",
    "class CustomerObject:\n",
    "    customerType = {\n",
    "        1: \"invidiual\",\n",
    "        2: \"company\"\n",
    "    }\n",
    "    gender = {\n",
    "        1: \"male\",\n",
    "        2: \"female\"\n",
    "    }\n",
    "    personal_identityType = {\n",
    "        1: \"Passpost\",\n",
    "        2: \"Govement ID\",\n",
    "    }\n",
    "    occupationtypetitle = {\n",
    "        1: \"Staff\",\n",
    "        2: \"Teamlead\",\n",
    "        3: \"Freelancer\",\n",
    "        4: \"Deputy Head\",\n",
    "        5: \"Deputy\",\n",
    "        6: \"Director\",\n",
    "        7: \"Vice Director\",\n",
    "        8: \"Director General\"\n",
    "    }\n",
    "    fake = faker.Faker()\n",
    "\n",
    "    def __init__(self, customerType):\n",
    "        if(customerType < min(list(CustomerObject.customerType.keys())) or \n",
    "           customerType > min(list(CustomerObject.customerType.keys()))):\n",
    "            __customerType = random.choice(list(CustomerObject.customerType.keys()))\n",
    "        else:\n",
    "            __customerType = customerType;\n",
    "        if (__customerType == 1):\n",
    "            self.customerrecordid = idConfig[\"customerrecordid\"]\n",
    "            idConfig[\"customerrecordid\"] += 1\n",
    "            self.customerid = idConfig[\"customerid\"]\n",
    "            idConfig[\"customerid\"] += 1\n",
    "            self.permanentadd = CustomerObject.fake.address()\n",
    "            self.zipcode = CustomerObject.fake.postcode()\n",
    "            self.birthday = CustomerObject.fake.date()\n",
    "            self.firstregisterday = CustomerObject.fake.date_time_between(\n",
    "                start_date=datetime.strptime(self.birthday, \"%Y-%m-%d\")).strftime(\"%Y-%m-%d\")\n",
    "            __gender = random.choice(list(CustomerObject.gender.keys()))\n",
    "            if (__gender == 1):\n",
    "                self.name = CustomerObject.fake.name_male()\n",
    "            elif (__gender == 2):\n",
    "                self.name = CustomerObject.fake.name_female()\n",
    "            self.gender = CustomerObject.gender[__gender]\n",
    "            self.email = CustomerObject.fake.email()\n",
    "            self.phonenumber = CustomerObject.fake.phone_number()\n",
    "            self.salary = random.randint(3, 10000000000000)\n",
    "            self.occupationtypetitle = random.choice(list(CustomerObject.occupationtypetitle.values()))\n",
    "            self.occupationjobtitle = CustomerObject.fake.job()\n",
    "            __personal_identitytype = random.choice(list(CustomerObject.personal_identityType.keys()))\n",
    "            self.identitytype = CustomerObject.personal_identityType[__personal_identitytype] \n",
    "            if (__personal_identitytype == 1):\n",
    "                self.identitynumber = idConfig[\"passpost_identitynumber\"]\n",
    "                idConfig[\"passpost_identitynumber\"] += 1\n",
    "            elif (__personal_identitytype == 2):\n",
    "                self.identitynumber = idConfig[\"govementid_identitynumber\"]\n",
    "                idConfig[\"govementid_identitynumber\"] += 1\n",
    "            self.customertype = CustomerObject.customerType[__customerType]\n",
    "            self.taxcode = idConfig[\"taxcode\"]\n",
    "            idConfig[\"taxcode\"] += 1\n",
    "            self.mainbusinesstype = \"\"\n",
    "            self.companytypetitle = \"\"\n",
    "            self.updatedate = CustomerObject.fake.date_time_between(\n",
    "                start_date=datetime.strptime(self.firstregisterday, \"%Y-%m-%d\")).strftime(\"%Y-%m-%d, %H:%M:%S\")\n",
    "            self.newestcustomerinfo = \"True\"\n",
    "            self.mainaccountid = \"\"\n",
    "            self.representivename = \"\"\n",
    "            self.representivepermanentadd = \"\"\n",
    "            self.representivezipcode = \"\"\n",
    "            self.representivebirthday = \"\"\n",
    "            self.representivegender = \"\"\n",
    "            self.representiveemail = \"\"\n",
    "            self.representivephonenumber = \"\"\n",
    "            self.representiveidentitytype = \"\"\n",
    "            self.representiveidentitynumber = \"\"\n",
    "            self.chiefaccountantname = \"\"\n",
    "            self.chiefaccountantpermanentadd = \"\"\n",
    "            self.chiefaccountantzipcode = \"\"\n",
    "            self.chiefaccountantbirthday = \"\"\n",
    "            self.chiefaccountantgender = \"\"\n",
    "            self.chiefaccountantemail = \"\"\n",
    "            self.chiefaccountantphonenumber = \"\"\n",
    "            self.chiefaccountantidentitytype = \"\"\n",
    "            self.chiefaccountantidentitynumber = \"\"\n",
    "        elif (__customerType == 2):\n",
    "            self.customerrecordid = idConfig[\"customerrecordid\"]\n",
    "            idConfig[\"customerrecordid\"] += 1\n",
    "            self.customerid = idConfig[\"customerid\"]\n",
    "            idConfig[\"customerid\"] += 1\n",
    "            self.name = CustomerObject.fake.company()\n",
    "            self.permanentadd = CustomerObject.fake.address()\n",
    "            self.zipcode = CustomerObject.fake.postcode()\n",
    "            self.birthday = CustomerObject.fake.date()\n",
    "            self.firstregisterday = CustomerObject.fake.date_time_between(\n",
    "                start_date=datetime.strptime(self.birthday, \"%Y-%m-%d\")).strftime(\"%Y-%m-%d\")\n",
    "            self.gender = \"\"\n",
    "            self.email = CustomerObject.fake.email()\n",
    "            self.phonenumber = CustomerObject.fake.phone_number()\n",
    "            self.salary = 0\n",
    "            self.occupationtypetitle = \"\"\n",
    "            self.occupationjobtitle = \"\"\n",
    "            self.identitytype = \"Company Identity\"\n",
    "            self.identitynumber = idConfig[\"company_identitynumber\"]\n",
    "            idConfig[\"company_identitynumber\"] += 1\n",
    "            self.customertype = CustomerObject.customerType[__customerType]\n",
    "            self.taxcode = idConfig[\"taxcode\"]\n",
    "            idConfig[\"taxcode\"] += 1 \n",
    "            ## todo\n",
    "            self.mainbusinesstype = \"\"\n",
    "            self.companytypetitle = CustomerObject.fake.company_suffix()\n",
    "            self.updatedate = CustomerObject.fake.date_time_between(\n",
    "                start_date=datetime.strptime(self.firstregisterday, \"%Y-%m-%d\")).strftime(\"%Y-%m-%d, %H:%M:%S\") \n",
    "            self.mainaccountid = \"\"\n",
    "            __genderrepresentive = random.choice(list(CustomerObject.gender.keys()))\n",
    "            if (__genderrepresentive == 1):\n",
    "                self.representivename = CustomerObject.fake.name_male()\n",
    "            elif (__genderrepresentive == 2):\n",
    "                self.representivename = CustomerObject.fake.name_female()\n",
    "            self.representivepermanentadd = CustomerObject.fake.address()\n",
    "            self.representivezipcode = CustomerObject.fake.postcode()\n",
    "            self.representivebirthday = CustomerObject.fake.date()\n",
    "            self.representivegender = __genderrepresentive\n",
    "            self.representiveemail = CustomerObject.fake.email()\n",
    "            self.representivephonenumber = CustomerObject.fake.phone_number()\n",
    "            __personal_representiveidentitytype = random.choice(list(CustomerObject.personal_identityType.keys()))\n",
    "            self.representiveidentitytype = CustomerObject.personal_identityType[__personal_representiveidentitytype] \n",
    "            if (__personal_representiveidentitytype == 1):\n",
    "                self.representiveidentitynumber = idConfig[\"passpost_identitynumber\"]\n",
    "                idConfig[\"passpost_identitynumber\"] += 1\n",
    "            elif (__personal_representiveidentitytype == 2):\n",
    "                self.representiveidentitynumber = idConfig[\"govementid_identitynumber\"]\n",
    "                idConfig[\"govementid_identitynumber\"] += 1\n",
    "            __genderchiefaccountant = random.choice(list(CustomerObject.gender.keys()))\n",
    "            if (__genderchiefaccountant == 1):\n",
    "                self.chiefaccountantname = CustomerObject.fake.name_male()\n",
    "            elif (__genderchiefaccountant == 2):\n",
    "                self.chiefaccountantname = CustomerObject.fake.name_female()\n",
    "            self.chiefaccountantpermanentadd = CustomerObject.fake.address()\n",
    "            self.chiefaccountantzipcode = CustomerObject.fake.postcode()\n",
    "            self.chiefaccountantbirthday = CustomerObject.fake.date()\n",
    "            self.chiefaccountantgender = __genderchiefaccountant\n",
    "            self.chiefaccountantemail = CustomerObject.fake.email()\n",
    "            self.chiefaccountantphonenumber = CustomerObject.fake.phone_number()\n",
    "            __personal_chiefaccountantidentitytype = random.choice(list(CustomerObject.personal_identityType.keys()))\n",
    "            self.chiefaccountantidentitytype = CustomerObject.personal_identityType[__personal_chiefaccountantidentitytype] \n",
    "            if (__personal_chiefaccountantidentitytype == 1):\n",
    "                self.chiefaccountantidentitynumber = idConfig[\"passpost_identitynumber\"]\n",
    "                idConfig[\"passpost_identitynumber\"] += 1\n",
    "            elif (__personal_chiefaccountantidentitytype == 2):\n",
    "                self.chiefaccountantidentitynumber = idConfig[\"govementid_identitynumber\"]\n",
    "                idConfig[\"govementid_identitynumber\"] += 1\n",
    "    def toList(self):\n",
    "        return [Row(\n",
    "            self.customerrecordid,\n",
    "            self.customerid,\n",
    "            self.name,\n",
    "            self.permanentadd,\n",
    "            self.zipcode,\n",
    "            self.birthday,\n",
    "            self.gender,\n",
    "            self.email,\n",
    "            self.phonenumber,\n",
    "            self.salary,\n",
    "            self.occupationtypetitle,\n",
    "            self.occupationjobtitle,\n",
    "            self.identitytype,\n",
    "            self.identitynumber,\n",
    "            self.customertype,\n",
    "            self.taxcode,\n",
    "            self.mainbusinesstype,\n",
    "            self.companytypetitle,\n",
    "            self.updatedate,\n",
    "            self.mainaccountid,\n",
    "            self.representivename,\n",
    "            self.representivepermanentadd,\n",
    "            self.representivezipcode,\n",
    "            self.representivebirthday,\n",
    "            self.representivegender,\n",
    "            self.representiveemail,\n",
    "            self.representivephonenumber,\n",
    "            self.representiveidentitytype,\n",
    "            self.representiveidentitynumber,\n",
    "            self.chiefaccountantname,\n",
    "            self.chiefaccountantpermanentadd,\n",
    "            self.chiefaccountantzipcode,\n",
    "            self.chiefaccountantbirthday,\n",
    "            self.chiefaccountantgender,\n",
    "            self.chiefaccountantemail,\n",
    "            self.chiefaccountantphonenumber,\n",
    "            self.chiefaccountantidentitytype,\n",
    "            self.chiefaccountantidentitynumber\n",
    "            )]\n"
   ]
  },
  {
   "cell_type": "code",
   "execution_count": 6,
   "id": "86d26b9b-4b71-4a6b-8813-10754218bf95",
   "metadata": {},
   "outputs": [],
   "source": [
    "FactCustomer = []\n",
    "for x in range(CONFIG_NUMBER):\n",
    "    Customer = CustomerObject(0).toList()\n",
    "    FactCustomer = FactCustomer + Customer"
   ]
  },
  {
   "cell_type": "code",
   "execution_count": 7,
   "id": "251b08e7-5e08-43b5-9e6e-fb4d53c2daa4",
   "metadata": {},
   "outputs": [],
   "source": [
    "FactCustomerColumns = StructType([\n",
    "    StructField(\"customerrecordid\", StringType(), True),\n",
    "    StructField(\"customerid\", StringType(), True),\n",
    "    StructField(\"name\", StringType(), True),\n",
    "    StructField(\"permanentadd\", StringType(), True),\n",
    "    StructField(\"zipcode\", StringType(), True),\n",
    "    StructField(\"birthday\", StringType(), True),\n",
    "    StructField(\"gender\", StringType(), True),\n",
    "    StructField(\"email\", StringType(), True),\n",
    "    StructField(\"phonenumber\", StringType(), True),\n",
    "    StructField(\"salary\", StringType(), True),\n",
    "    StructField(\"occupationtypetitle\", StringType(), True),\n",
    "    StructField(\"occupationjobtitle\", StringType(), True),\n",
    "    StructField(\"identitytype\", StringType(), True),\n",
    "    StructField(\"identitynumber\", StringType(), True),\n",
    "    StructField(\"customertype\", StringType(), True),\n",
    "    StructField(\"taxcode\", StringType(), True),\n",
    "    StructField(\"mainbusinesstype\", StringType(), True),\n",
    "    StructField(\"companytypetitle\", StringType(), True),\n",
    "    StructField(\"updatedate\", StringType(), True),\n",
    "    StructField(\"mainaccountid\", StringType(), True),\n",
    "    StructField(\"representivename\", StringType(), True),\n",
    "    StructField(\"representivepermanentadd\", StringType(), True),\n",
    "    StructField(\"representivezipcode\", StringType(), True),\n",
    "    StructField(\"representivebirthday\", StringType(), True),\n",
    "    StructField(\"representivegender\", StringType(), True),\n",
    "    StructField(\"representiveemail\", StringType(), True),\n",
    "    StructField(\"representivephonenumber\", StringType(), True),\n",
    "    StructField(\"representiveidentitytype\", StringType(), True),\n",
    "    StructField(\"representiveidentitynumber\", StringType(), True),\n",
    "    StructField(\"chiefaccountantname\", StringType(), True),\n",
    "    StructField(\"chiefaccountantpermanentadd\", StringType(), True),\n",
    "    StructField(\"chiefaccountantzipcode\", StringType(), True),\n",
    "    StructField(\"chiefaccountantbirthday\", StringType(), True),\n",
    "    StructField(\"chiefaccountantgender\", StringType(), True),\n",
    "    StructField(\"chiefaccountantemail\", StringType(), True),\n",
    "    StructField(\"chiefaccountantphonenumber\", StringType(), True),\n",
    "    StructField(\"chiefaccountantidentitytype\", StringType(), True),\n",
    "    StructField(\"chiefaccountantidentitynumber\", StringType(), True)\n",
    "    ])"
   ]
  },
  {
   "cell_type": "code",
   "execution_count": 8,
   "id": "1d7857b3-e534-4e7a-88bc-d75ff5971e90",
   "metadata": {
    "tags": []
   },
   "outputs": [],
   "source": [
    "MainDf = spark.createDataFrame(data=FactCustomer, schema = FactCustomerColumns)"
   ]
  },
  {
   "cell_type": "code",
   "execution_count": 9,
   "id": "0c342c4a-150c-46f4-ad80-67bfec477788",
   "metadata": {},
   "outputs": [],
   "source": [
    "from datetime import datetime\n",
    "now = datetime.now()\n",
    "fileName = 'FactCustomer ' + now.strftime(\"%Y-%m-%d %H-%M-%S-%f\") "
   ]
  },
  {
   "cell_type": "code",
   "execution_count": 10,
   "id": "c4bd8685-c5ce-4b52-9a93-8b9e537bed00",
   "metadata": {},
   "outputs": [
    {
     "name": "stdout",
     "output_type": "stream",
     "text": [
      "FactCustomer 2022-11-22 10-36-31-502257\n"
     ]
    }
   ],
   "source": [
    "print(fileName)"
   ]
  },
  {
   "cell_type": "code",
   "execution_count": 11,
   "id": "711e21df-6844-4cbc-83ac-422bb000b028",
   "metadata": {},
   "outputs": [
    {
     "name": "stdout",
     "output_type": "stream",
     "text": [
      "22/11/22 10:36:31 WARN package: Truncated the string representation of a plan since it was too large. This behavior can be adjusted by setting 'spark.sql.debug.maxToStringFields'.\n"
     ]
    },
    {
     "name": "stderr",
     "output_type": "stream",
     "text": [
      "                                                                                \r"
     ]
    }
   ],
   "source": [
    "MainDf.write.mode('overwrite').option(\"header\",\"true\").csv(OUTPUT_TMP_FILE_PATH_PREFIX + fileName)"
   ]
  },
  {
   "cell_type": "code",
   "execution_count": 12,
   "id": "92271101-1a94-4b1b-a828-2139c52a148c",
   "metadata": {},
   "outputs": [
    {
     "name": "stdout",
     "output_type": "stream",
     "text": [
      "begin to rewrite customerrecordid\n",
      "-----------------\n",
      "begin to rewrite customerid\n",
      "-----------------\n",
      "begin to rewrite passpost_identitynumber\n",
      "-----------------\n",
      "begin to rewrite govementid_identitynumber\n",
      "-----------------\n",
      "begin to rewrite company_identitynumber\n",
      "-----------------\n",
      "begin to rewrite chiefaccountantid\n",
      "-----------------\n",
      "begin to rewrite oldercustomersaveid\n",
      "-----------------\n",
      "begin to rewrite mainaccountid\n",
      "-----------------\n",
      "begin to rewrite taxcode\n",
      "-----------------\n"
     ]
    }
   ],
   "source": [
    "for file in idConfig.keys():\n",
    "    print('begin to rewrite ' + file)\n",
    "    realFile = open(CONFIG_TMP_FILE_PATH_PREFIX+file,\"w+\")\n",
    "    realFile.seek(0)\n",
    "    realFile.write(str(idConfig[file]))\n",
    "    realFile.close()\n",
    "    print('-----------------')"
   ]
  },
  {
   "cell_type": "code",
   "execution_count": 13,
   "id": "556d2228-b5ab-45e9-813c-c56cb66575fe",
   "metadata": {},
   "outputs": [
    {
     "data": {
      "text/plain": [
       "'output/FactCustomer 2022-11-22 10-36-31-502257'"
      ]
     },
     "execution_count": 13,
     "metadata": {},
     "output_type": "execute_result"
    }
   ],
   "source": [
    "import shutil\n",
    "for file in idConfig.keys():\n",
    "    shutil.move(CONFIG_FILE_PATH_PREFIX+file, CONFIG_BACKUP_FILE_PATH_PREFIX+file)\n",
    "    shutil.move(CONFIG_TMP_FILE_PATH_PREFIX+file, CONFIG_FILE_PATH_PREFIX+file)\n",
    "shutil.move(OUTPUT_TMP_FILE_PATH_PREFIX + fileName, OUTPUT_FILE_PATH_PREFIX+fileName)"
   ]
  },
  {
   "cell_type": "code",
   "execution_count": null,
   "id": "ccc0d0dd-f02a-4e93-8595-c2bfd94aad43",
   "metadata": {},
   "outputs": [],
   "source": []
  }
 ],
 "metadata": {
  "kernelspec": {
   "display_name": "Python 3 (ipykernel)",
   "language": "python",
   "name": "python3"
  },
  "language_info": {
   "codemirror_mode": {
    "name": "ipython",
    "version": 3
   },
   "file_extension": ".py",
   "mimetype": "text/x-python",
   "name": "python",
   "nbconvert_exporter": "python",
   "pygments_lexer": "ipython3",
   "version": "3.10.6"
  }
 },
 "nbformat": 4,
 "nbformat_minor": 5
}
