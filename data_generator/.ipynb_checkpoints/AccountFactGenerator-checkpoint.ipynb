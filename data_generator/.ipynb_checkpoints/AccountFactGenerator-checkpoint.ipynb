{
 "cells": [
  {
   "cell_type": "code",
   "execution_count": 12,
   "id": "0d69aab3-b906-4105-8237-7b027a293188",
   "metadata": {},
   "outputs": [],
   "source": [
    "CONFIG_FILE_PATH_PREFIX = 'cfg/'\n",
    "CONFIG_TMP_FILE_PATH_PREFIX = 'cfg/tmp/'\n",
    "CONFIG_BACKUP_FILE_PATH_PREFIX = 'cfg/backup/'\n",
    "\n",
    "OUTPUT_FILE_PATH_PREFIX = 'output/'\n",
    "OUTPUT_TMP_FILE_PATH_PREFIX = 'output/tmp/'\n",
    "\n",
    "CONFIG_NUMBER = 1000"
   ]
  },
  {
   "cell_type": "code",
   "execution_count": 13,
   "id": "ab98e876-82f7-4120-b48c-3a90fd026ba9",
   "metadata": {},
   "outputs": [],
   "source": [
    "#!pip install Faker"
   ]
  },
  {
   "cell_type": "code",
   "execution_count": 14,
   "id": "14d99565-fce1-478a-bef1-982859553d60",
   "metadata": {},
   "outputs": [],
   "source": [
    "import sys\n",
    "import pyspark\n",
    "from pyspark.sql import SparkSession, Row\n",
    "from pyspark.sql.types import StructType,StructField, StringType\n",
    "spark = SparkSession \\\n",
    "    .builder \\\n",
    "    .appName(\"Python Spark Customer Fact Generator\") \\\n",
    "    .getOrCreate()"
   ]
  },
  {
   "cell_type": "code",
   "execution_count": 15,
   "id": "893b0b34-99fc-4fe0-ad17-bdd7204f829e",
   "metadata": {},
   "outputs": [
    {
     "name": "stdout",
     "output_type": "stream",
     "text": [
      "-----------------\n",
      "accountrecordid is exist\n",
      "begin loadingaccountrecordid\n",
      "defaultaccountrecordid is exist\n",
      "begin loadingdefaultaccountrecordid\n",
      "accountid is exist\n",
      "begin loadingaccountid\n",
      "-----------------\n",
      "begin to creating defaultaccountid\n",
      "defaultaccountid is exist\n",
      "begin loadingdefaultaccountid\n",
      "defaultcustomerid is exist\n",
      "begin loadingdefaultcustomerid\n",
      "customerid is exist\n",
      "begin loadingcustomerid\n"
     ]
    }
   ],
   "source": [
    "##Reading the config from file for max id\n",
    "import os.path\n",
    "idConfig = {\n",
    "    \"accountrecordid\": 10000000,\n",
    "    \"defaultaccountrecordid\": 10000000,\n",
    "    \"accountid\": 10000000,\n",
    "    \"defaultaccountid\": 10000000,\n",
    "    \"defaultcustomerid\": 10000000,\n",
    "    \"customerid\": 10000000,\n",
    "}\n",
    "print('-----------------')\n",
    "for file in idConfig.keys():\n",
    "    file_exist = os.path.exists(CONFIG_FILE_PATH_PREFIX+file)\n",
    "    if (file_exist):\n",
    "        print(file + ' is exist')\n",
    "        print('begin loading' + file)\n",
    "        realFile = open(CONFIG_FILE_PATH_PREFIX+file,\"r\")\n",
    "        idConfig[file] = int(realFile.readlines()[0])\n",
    "        realFile.close()\n",
    "    else:\n",
    "        if (file not in [\"accountid\", \"defaultaccountid\", \"accountrecordid\", \"defaultaccountrecordid\"]):\n",
    "            print ('Please run CustomerFactGenerator first')\n",
    "            break\n",
    "        print(file + ' is not exist')\n",
    "        print('begin to creating ' + file)\n",
    "        realFile = open(CONFIG_FILE_PATH_PREFIX+file,\"w+\")\n",
    "        realFile.seek(0)\n",
    "        realFile.write(str(idConfig[file]))\n",
    "        realFile.close()"
   ]
  },
  {
   "cell_type": "code",
   "execution_count": 16,
   "id": "cd611695-b603-4fca-b63c-66d199c2e093",
   "metadata": {},
   "outputs": [
    {
     "name": "stdout",
     "output_type": "stream",
     "text": [
      "{'accountrecordid': 10000000, 'defaultaccountrecordid': 10000000, 'accountid': 10000000, 'defaultaccountid': 10000000, 'defaultcustomerid': 10000000, 'customerid': 10001000}\n"
     ]
    }
   ],
   "source": [
    "print(idConfig)"
   ]
  },
  {
   "cell_type": "code",
   "execution_count": 25,
   "id": "f71e7d9c-06de-4226-833b-527fb72a6195",
   "metadata": {},
   "outputs": [],
   "source": [
    "import random\n",
    "import faker\n",
    "from datetime import datetime\n",
    "import re\n",
    "class AccountObject:\n",
    "    AcountTypeDim = {\n",
    "        1: \"credit\",\n",
    "        2: \"debit\",\n",
    "        3: \"deposit\",\n",
    "        4: \"saving\"\n",
    "    }\n",
    "    StatusDim = {\n",
    "        1: \"active\",\n",
    "        2: \"deactive\",\n",
    "        3: \"temporarilylocked\"\n",
    "    }\n",
    "    fake = faker.Faker()\n",
    "\n",
    "    def __init__(self):\n",
    "        self.accountrecordid = idConfig[\"accountrecordid\"]\n",
    "        idConfig[\"accountrecordid\"] += 1\n",
    "        self.accountid = idConfig[\"accountid\"]\n",
    "        idConfig[\"accountid\"] += 1\n",
    "        __accounttype = random.choice(list(AccountObject.AcountTypeDim.keys()))\n",
    "        self.accounttype = AccountObject.AcountTypeDim[__accounttype]\n",
    "        self.customerid = AccountObject.fake.random_int(min=idConfig['defaultcustomerid'], max=idConfig['customerid'])\n",
    "        self.balance = random.randint(1, 10000)\n",
    "        self.opendate = AccountObject.fake.date()\n",
    "        self.closedate = \"\"\n",
    "        self.initialamount = \"\"\n",
    "        self.remainamount = \"\"\n",
    "        self.totalamount = \"\"\n",
    "        self.status = AccountObject.StatusDim[1]\n",
    "        self.referenceinterestrate = \"\"\n",
    "        self.cardinfo = AccountObject.fake.credit_card_full()\n",
    "        self.lasttransactiondate =  AccountObject.fake.date_time_between(\n",
    "                start_date=datetime.strptime(self.opendate, \"%Y-%m-%d\")).strftime(\"%Y-%m-%d, %H:%M:%S\")\n",
    "        self.lastactivedate = AccountObject.fake.date_time_between(\n",
    "                start_date=datetime.strptime(self.opendate, \"%Y-%m-%d\")).strftime(\"%Y-%m-%d, %H:%M:%S\")\n",
    "\n",
    "    def toList(self):\n",
    "        return [Row(\n",
    "            self.accountrecordid,\n",
    "            self.accountid,\n",
    "            self.accounttype,\n",
    "            self.customerid,\n",
    "            self.balance,\n",
    "            self.opendate,\n",
    "            self.closedate,\n",
    "            self.initialamount,\n",
    "            self.remainamount,\n",
    "            self.totalamount,\n",
    "            self.status,\n",
    "            self.referenceinterestrate,\n",
    "            self.cardinfo,\n",
    "            self.lasttransactiondate,\n",
    "            self.lastactivedate\n",
    "\n",
    "            )]\n"
   ]
  },
  {
   "cell_type": "code",
   "execution_count": 26,
   "id": "86d26b9b-4b71-4a6b-8813-10754218bf95",
   "metadata": {},
   "outputs": [],
   "source": [
    "FactAccount = []\n",
    "for x in range(CONFIG_NUMBER):\n",
    "    Account = AccountObject().toList()\n",
    "    FactAccount = FactAccount + Account"
   ]
  },
  {
   "cell_type": "code",
   "execution_count": 27,
   "id": "251b08e7-5e08-43b5-9e6e-fb4d53c2daa4",
   "metadata": {},
   "outputs": [],
   "source": [
    "FactAccountColumns = StructType([\n",
    "    StructField(\"accountrecordid\", StringType(), True),\n",
    "    StructField(\"accountid\", StringType(), True),\n",
    "    StructField(\"accounttype\", StringType(), True),\n",
    "    StructField(\"customerid\", StringType(), True),\n",
    "    StructField(\"balance\", StringType(), True),\n",
    "    StructField(\"opendate\", StringType(), True),\n",
    "    StructField(\"closedate\", StringType(), True),\n",
    "    StructField(\"initialamount\", StringType(), True),\n",
    "    StructField(\"remainamount\", StringType(), True),\n",
    "    StructField(\"totalamount\", StringType(), True),\n",
    "    StructField(\"status\", StringType(), True),\n",
    "    StructField(\"referenceinterestrate\", StringType(), True),\n",
    "    StructField(\"cardinfo\", StringType(), True),\n",
    "    StructField(\"lasttransactiondate\", StringType(), True),\n",
    "    StructField(\"lastactivedate\", StringType(), True)\n",
    "    ])"
   ]
  },
  {
   "cell_type": "code",
   "execution_count": 28,
   "id": "1d7857b3-e534-4e7a-88bc-d75ff5971e90",
   "metadata": {
    "tags": []
   },
   "outputs": [],
   "source": [
    "MainDf = spark.createDataFrame(data=FactAccount, schema = FactAccountColumns)"
   ]
  },
  {
   "cell_type": "code",
   "execution_count": 29,
   "id": "0c342c4a-150c-46f4-ad80-67bfec477788",
   "metadata": {},
   "outputs": [],
   "source": [
    "from datetime import datetime\n",
    "now = datetime.now()\n",
    "fileName = 'FactAccount ' + now.strftime(\"%Y-%m-%d %H-%M-%S-%f\") "
   ]
  },
  {
   "cell_type": "code",
   "execution_count": 30,
   "id": "c4bd8685-c5ce-4b52-9a93-8b9e537bed00",
   "metadata": {},
   "outputs": [
    {
     "name": "stdout",
     "output_type": "stream",
     "text": [
      "FactAccount 2022-11-22 11-22-24-935189\n"
     ]
    }
   ],
   "source": [
    "print(fileName)"
   ]
  },
  {
   "cell_type": "code",
   "execution_count": 31,
   "id": "711e21df-6844-4cbc-83ac-422bb000b028",
   "metadata": {},
   "outputs": [
    {
     "name": "stderr",
     "output_type": "stream",
     "text": [
      "                                                                                \r"
     ]
    }
   ],
   "source": [
    "MainDf.write.mode('overwrite').option(\"header\",\"true\").csv(OUTPUT_TMP_FILE_PATH_PREFIX + fileName)"
   ]
  },
  {
   "cell_type": "code",
   "execution_count": 32,
   "id": "92271101-1a94-4b1b-a828-2139c52a148c",
   "metadata": {},
   "outputs": [
    {
     "name": "stdout",
     "output_type": "stream",
     "text": [
      "begin to rewrite accountrecordid\n",
      "-----------------\n",
      "begin to rewrite defaultaccountrecordid\n",
      "-----------------\n",
      "begin to rewrite accountid\n",
      "-----------------\n",
      "begin to rewrite defaultaccountid\n",
      "-----------------\n",
      "begin to rewrite defaultcustomerid\n",
      "-----------------\n",
      "begin to rewrite customerid\n",
      "-----------------\n"
     ]
    }
   ],
   "source": [
    "for file in idConfig.keys():\n",
    "    print('begin to rewrite ' + file)\n",
    "    realFile = open(CONFIG_TMP_FILE_PATH_PREFIX+file,\"w+\")\n",
    "    realFile.seek(0)\n",
    "    realFile.write(str(idConfig[file]))\n",
    "    realFile.close()\n",
    "    print('-----------------')"
   ]
  },
  {
   "cell_type": "code",
   "execution_count": 33,
   "id": "556d2228-b5ab-45e9-813c-c56cb66575fe",
   "metadata": {},
   "outputs": [
    {
     "data": {
      "text/plain": [
       "'output/FactAccount 2022-11-22 11-22-24-935189'"
      ]
     },
     "execution_count": 33,
     "metadata": {},
     "output_type": "execute_result"
    }
   ],
   "source": [
    "import shutil\n",
    "for file in idConfig.keys():\n",
    "    shutil.move(CONFIG_FILE_PATH_PREFIX+file, CONFIG_BACKUP_FILE_PATH_PREFIX+file)\n",
    "    shutil.move(CONFIG_TMP_FILE_PATH_PREFIX+file, CONFIG_FILE_PATH_PREFIX+file)\n",
    "shutil.move(OUTPUT_TMP_FILE_PATH_PREFIX + fileName, OUTPUT_FILE_PATH_PREFIX+fileName)"
   ]
  },
  {
   "cell_type": "code",
   "execution_count": null,
   "id": "ccc0d0dd-f02a-4e93-8595-c2bfd94aad43",
   "metadata": {},
   "outputs": [],
   "source": []
  }
 ],
 "metadata": {
  "kernelspec": {
   "display_name": "Python 3 (ipykernel)",
   "language": "python",
   "name": "python3"
  },
  "language_info": {
   "codemirror_mode": {
    "name": "ipython",
    "version": 3
   },
   "file_extension": ".py",
   "mimetype": "text/x-python",
   "name": "python",
   "nbconvert_exporter": "python",
   "pygments_lexer": "ipython3",
   "version": "3.10.6"
  }
 },
 "nbformat": 4,
 "nbformat_minor": 5
}
