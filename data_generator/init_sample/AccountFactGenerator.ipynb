{
 "cells": [
  {
   "cell_type": "code",
   "execution_count": 1,
   "id": "0d69aab3-b906-4105-8237-7b027a293188",
   "metadata": {},
   "outputs": [],
   "source": [
    "import os\n",
    "PATH = os.path.realpath(os.path.dirname(__file__))\n",
    "\n",
    "# config constant\n",
    "CONFIG_FILE_PATH_PREFIX = PATH + \"/../cfg/\"\n",
    "CONFIG_TMP_FILE_PATH_PREFIX = PATH + \"/../cfg/tmp/\"\n",
    "CONFIG_BACKUP_FILE_PATH_PREFIX = PATH + \"/../cfg/backup/\"\n",
    "\n",
    "OUTPUT_FILE_PATH_PREFIX = PATH + \"/../output/\"\n",
    "OUTPUT_TMP_FILE_PATH_PREFIX = PATH + \"/../output/tmp/\"\n",
    "\n",
    "CONFIG_NUMBER = 1000"
   ]
  },
  {
   "cell_type": "code",
   "execution_count": 2,
   "id": "ab98e876-82f7-4120-b48c-3a90fd026ba9",
   "metadata": {},
   "outputs": [],
   "source": [
    "#!pip install Faker"
   ]
  },
  {
   "cell_type": "code",
   "execution_count": 3,
   "id": "14d99565-fce1-478a-bef1-982859553d60",
   "metadata": {},
   "outputs": [
    {
     "name": "stdout",
     "output_type": "stream",
     "text": [
      "23/01/05 11:12:49 WARN Utils: Your hostname, htknphuong-virtual-machine resolves to a loopback address: 127.0.1.1; using 192.168.142.129 instead (on interface ens33)\n",
      "23/01/05 11:12:49 WARN Utils: Set SPARK_LOCAL_IP if you need to bind to another address\n"
     ]
    },
    {
     "name": "stderr",
     "output_type": "stream",
     "text": [
      "Setting default log level to \"WARN\".\n",
      "To adjust logging level use sc.setLogLevel(newLevel). For SparkR, use setLogLevel(newLevel).\n"
     ]
    },
    {
     "name": "stdout",
     "output_type": "stream",
     "text": [
      "23/01/05 11:12:49 WARN NativeCodeLoader: Unable to load native-hadoop library for your platform... using builtin-java classes where applicable\n"
     ]
    }
   ],
   "source": [
    "import sys\n",
    "import pyspark\n",
    "from pyspark.sql import SparkSession, Row\n",
    "from pyspark.sql.types import StructType,StructField, StringType\n",
    "spark = SparkSession \\\n",
    "    .builder \\\n",
    "    .appName(\"Python Spark Customer Fact Generator\") \\\n",
    "    .getOrCreate()"
   ]
  },
  {
   "cell_type": "code",
   "execution_count": 4,
   "id": "893b0b34-99fc-4fe0-ad17-bdd7204f829e",
   "metadata": {},
   "outputs": [
    {
     "name": "stdout",
     "output_type": "stream",
     "text": [
      "-----------------\n",
      "accountrecordid is exist\n",
      "begin loadingaccountrecordid\n",
      "defaultaccountrecordid is exist\n",
      "begin loadingdefaultaccountrecordid\n",
      "accountid is exist\n",
      "begin loadingaccountid\n",
      "defaultaccountid is exist\n",
      "begin loadingdefaultaccountid\n",
      "defaultcustomerid is exist\n",
      "begin loadingdefaultcustomerid\n",
      "customerid is exist\n",
      "begin loadingcustomerid\n"
     ]
    }
   ],
   "source": [
    "##Reading the config from file for max id\n",
    "import os.path\n",
    "idConfig = {\n",
    "    \"accountrecordid\": 10000000,\n",
    "    \"defaultaccountrecordid\": 10000000,\n",
    "    \"accountid\": 10000000,\n",
    "    \"defaultaccountid\": 10000000,\n",
    "    \"defaultcustomerid\": 10000000,\n",
    "    \"customerid\": 10000000,\n",
    "}\n",
    "print('-----------------')\n",
    "for file in idConfig.keys():\n",
    "    file_exist = os.path.exists(CONFIG_FILE_PATH_PREFIX+file)\n",
    "    if (file_exist):\n",
    "        print(file + ' is exist')\n",
    "        print('begin loading' + file)\n",
    "        realFile = open(CONFIG_FILE_PATH_PREFIX+file,\"r\")\n",
    "        idConfig[file] = int(realFile.readlines()[0])\n",
    "        realFile.close()\n",
    "    else:\n",
    "        if (file not in [\"accountid\", \"defaultaccountid\", \"accountrecordid\", \"defaultaccountrecordid\"]):\n",
    "            print ('Please run CustomerFactGenerator first')\n",
    "            break\n",
    "        print(file + ' is not exist')\n",
    "        print('begin to creating ' + file)\n",
    "        realFile = open(CONFIG_FILE_PATH_PREFIX+file,\"w+\")\n",
    "        realFile.seek(0)\n",
    "        realFile.write(str(idConfig[file]))\n",
    "        realFile.close()"
   ]
  },
  {
   "cell_type": "code",
   "execution_count": 5,
   "id": "cd611695-b603-4fca-b63c-66d199c2e093",
   "metadata": {},
   "outputs": [
    {
     "name": "stdout",
     "output_type": "stream",
     "text": [
      "{'accountrecordid': 10001004, 'defaultaccountrecordid': 10000000, 'accountid': 10013004, 'defaultaccountid': 10000000, 'defaultcustomerid': 10002000, 'customerid': 10003000}\n"
     ]
    }
   ],
   "source": [
    "print(idConfig)"
   ]
  },
  {
   "cell_type": "code",
   "execution_count": 13,
   "id": "f71e7d9c-06de-4226-833b-527fb72a6195",
   "metadata": {},
   "outputs": [],
   "source": [
    "import random\n",
    "import faker\n",
    "from datetime import datetime\n",
    "import re\n",
    "class AccountObject:\n",
    "    AcountTypeDim = {\n",
    "        1: \"credit\",\n",
    "        2: \"debit\",\n",
    "        3: \"deposit\",\n",
    "        4: \"saving\"\n",
    "    }\n",
    "    StatusDim = {\n",
    "        1: \"Active\",\n",
    "        2: \"Inactive\",\n",
    "        3: \"Deleted\",\n",
    "        4: \"OnewayInactive\"\n",
    "    }\n",
    "    customerType = {\n",
    "        1: \"Company\",\n",
    "        2: \"Invidual\",\n",
    "        3: \"LinkedCompanyUser\"\n",
    "    }\n",
    "    fake = faker.Faker()\n",
    "\n",
    "    def __init__(self):\n",
    "        self.accountrecordid = idConfig[\"accountrecordid\"]\n",
    "        idConfig[\"accountrecordid\"] += 1\n",
    "        self.accountid = idConfig[\"accountid\"]\n",
    "        idConfig[\"accountid\"] += 1\n",
    "        __accounttype = random.choice(list(AccountObject.AcountTypeDim.keys()))\n",
    "        self.accounttype = AccountObject.AcountTypeDim[__accounttype]\n",
    "        self.customerType = AccountObject.customerType[2]\n",
    "        self.customerid = AccountObject.fake.random_int(min=idConfig['defaultcustomerid'], max=idConfig['customerid'])\n",
    "        self.balance = random.randint(1, 10000)\n",
    "        self.opendate = AccountObject.fake.date()\n",
    "        self.closedate = \"\"\n",
    "        self.duration = \"\"\n",
    "        self.initialamount = \"\"\n",
    "        self.remainamount = \"\"\n",
    "        self.totalamount = \"\"\n",
    "        self.status = AccountObject.StatusDim[1]\n",
    "        self.loanDate = \"\"\n",
    "        self.loanTypeID = \"\"\n",
    "        self.referenceinterestrate = \"\"\n",
    "        self.interestID = \"\"\n",
    "        self.cardinfo = AccountObject.fake.credit_card_full()\n",
    "\n",
    "    def toList(self):\n",
    "        return [Row(\n",
    "            self.accountrecordid,\n",
    "            self.accountid,\n",
    "            self.accounttype,\n",
    "            self.customerType,\n",
    "            self.customerid,\n",
    "            self.balance,\n",
    "            self.opendate,\n",
    "            self.closedate,\n",
    "            self.duration,\n",
    "            self.initialamount,\n",
    "            self.remainamount,\n",
    "            self.totalamount,\n",
    "            self.status,\n",
    "            self.loanDate,\n",
    "            self.loanTypeID,\n",
    "            self.referenceinterestrate,\n",
    "            self.interestID,\n",
    "            self.cardinfo\n",
    "            )]\n"
   ]
  },
  {
   "cell_type": "code",
   "execution_count": 14,
   "id": "86d26b9b-4b71-4a6b-8813-10754218bf95",
   "metadata": {},
   "outputs": [],
   "source": [
    "FactAccount = []\n",
    "for x in range(CONFIG_NUMBER):\n",
    "    Account = AccountObject().toList()\n",
    "    FactAccount = FactAccount + Account"
   ]
  },
  {
   "cell_type": "code",
   "execution_count": 18,
   "id": "251b08e7-5e08-43b5-9e6e-fb4d53c2daa4",
   "metadata": {},
   "outputs": [],
   "source": [
    "FactAccountColumns = StructType([\n",
    "    StructField(\"accountrecordid\", StringType(), True),\n",
    "    StructField(\"accountid\", StringType(), True),\n",
    "    StructField(\"accounttype\", StringType(), True),\n",
    "    StructField(\"customerType\", StringType(), True),\n",
    "    StructField(\"customerid\", StringType(), True),\n",
    "    StructField(\"balance\", StringType(), True),\n",
    "    StructField(\"opendate\", StringType(), True),\n",
    "    StructField(\"closedate\", StringType(), True),\n",
    "    StructField(\"duration\", StringType(), True),\n",
    "    StructField(\"initialamount\", StringType(), True),\n",
    "    StructField(\"remainamount\", StringType(), True),\n",
    "    StructField(\"totalamount\", StringType(), True),\n",
    "    StructField(\"status\", StringType(), True),\n",
    "    StructField(\"loanDate\", StringType(), True),\n",
    "    StructField(\"loanTypeID\", StringType(), True),\n",
    "    StructField(\"referenceinterestrate\", StringType(), True),\n",
    "    StructField(\"interestID\", StringType(), True),\n",
    "    StructField(\"cardinfo\", StringType(), True),\n",
    "    ])"
   ]
  },
  {
   "cell_type": "code",
   "execution_count": 19,
   "id": "1d7857b3-e534-4e7a-88bc-d75ff5971e90",
   "metadata": {
    "tags": []
   },
   "outputs": [],
   "source": [
    "MainDf = spark.createDataFrame(data=FactAccount, schema = FactAccountColumns)"
   ]
  },
  {
   "cell_type": "code",
   "execution_count": 20,
   "id": "0c342c4a-150c-46f4-ad80-67bfec477788",
   "metadata": {},
   "outputs": [],
   "source": [
    "from datetime import datetime\n",
    "now = datetime.now()\n",
    "fileName = 'FactAccount ' + now.strftime(\"%Y-%m-%d %H-%M-%S-%f\") "
   ]
  },
  {
   "cell_type": "code",
   "execution_count": 21,
   "id": "c4bd8685-c5ce-4b52-9a93-8b9e537bed00",
   "metadata": {},
   "outputs": [
    {
     "name": "stdout",
     "output_type": "stream",
     "text": [
      "FactAccount 2023-01-05 11-16-48-188542\n"
     ]
    }
   ],
   "source": [
    "print(fileName)"
   ]
  },
  {
   "cell_type": "code",
   "execution_count": 22,
   "id": "711e21df-6844-4cbc-83ac-422bb000b028",
   "metadata": {},
   "outputs": [
    {
     "name": "stderr",
     "output_type": "stream",
     "text": [
      "                                                                                \r"
     ]
    }
   ],
   "source": [
    "MainDf.write.mode('overwrite').option(\"header\",\"true\").csv(OUTPUT_TMP_FILE_PATH_PREFIX + fileName)"
   ]
  },
  {
   "cell_type": "code",
   "execution_count": 23,
   "id": "92271101-1a94-4b1b-a828-2139c52a148c",
   "metadata": {},
   "outputs": [
    {
     "name": "stdout",
     "output_type": "stream",
     "text": [
      "begin to rewrite accountrecordid\n",
      "-----------------\n",
      "begin to rewrite defaultaccountrecordid\n",
      "-----------------\n",
      "begin to rewrite accountid\n",
      "-----------------\n",
      "begin to rewrite defaultaccountid\n",
      "-----------------\n",
      "begin to rewrite defaultcustomerid\n",
      "-----------------\n",
      "begin to rewrite customerid\n",
      "-----------------\n"
     ]
    }
   ],
   "source": [
    "for file in idConfig.keys():\n",
    "    print('begin to rewrite ' + file)\n",
    "    realFile = open(CONFIG_TMP_FILE_PATH_PREFIX+file,\"w+\")\n",
    "    realFile.seek(0)\n",
    "    realFile.write(str(idConfig[file]))\n",
    "    realFile.close()\n",
    "    print('-----------------')"
   ]
  },
  {
   "cell_type": "code",
   "execution_count": 24,
   "id": "556d2228-b5ab-45e9-813c-c56cb66575fe",
   "metadata": {},
   "outputs": [
    {
     "data": {
      "text/plain": [
       "'output/FactAccount 2023-01-05 11-16-48-188542'"
      ]
     },
     "execution_count": 24,
     "metadata": {},
     "output_type": "execute_result"
    }
   ],
   "source": [
    "import shutil\n",
    "for file in idConfig.keys():\n",
    "    shutil.move(CONFIG_FILE_PATH_PREFIX+file, CONFIG_BACKUP_FILE_PATH_PREFIX+file)\n",
    "    shutil.move(CONFIG_TMP_FILE_PATH_PREFIX+file, CONFIG_FILE_PATH_PREFIX+file)\n",
    "shutil.move(OUTPUT_TMP_FILE_PATH_PREFIX + fileName, OUTPUT_FILE_PATH_PREFIX+fileName)"
   ]
  },
  {
   "cell_type": "code",
   "execution_count": null,
   "id": "ccc0d0dd-f02a-4e93-8595-c2bfd94aad43",
   "metadata": {},
   "outputs": [],
   "source": []
  }
 ],
 "metadata": {
  "kernelspec": {
   "display_name": "Python 3.10.6 ('DE1')",
   "language": "python",
   "name": "python3"
  },
  "language_info": {
   "codemirror_mode": {
    "name": "ipython",
    "version": 3
   },
   "file_extension": ".py",
   "mimetype": "text/x-python",
   "name": "python",
   "nbconvert_exporter": "python",
   "pygments_lexer": "ipython3",
   "version": "3.10.6"
  },
  "vscode": {
   "interpreter": {
    "hash": "3c72dc4b149b9945ba564c0ae32c598721fd367340b26323fdffee558cf2dddf"
   }
  }
 },
 "nbformat": 4,
 "nbformat_minor": 5
}
