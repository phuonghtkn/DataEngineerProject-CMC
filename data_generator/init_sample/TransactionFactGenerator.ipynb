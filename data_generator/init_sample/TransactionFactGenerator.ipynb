{
 "cells": [
  {
   "cell_type": "code",
   "execution_count": 1,
   "id": "0d69aab3-b906-4105-8237-7b027a293188",
   "metadata": {},
   "outputs": [],
   "source": [
    "import os\n",
    "PATH = os.path.realpath(os.path.dirname(__file__))\n",
    "\n",
    "# config constant\n",
    "CONFIG_FILE_PATH_PREFIX = PATH + \"/../cfg/\"\n",
    "CONFIG_TMP_FILE_PATH_PREFIX = PATH + \"/../cfg/tmp/\"\n",
    "CONFIG_BACKUP_FILE_PATH_PREFIX = PATH + \"/../cfg/backup/\"\n",
    "\n",
    "OUTPUT_FILE_PATH_PREFIX = PATH + \"/../output/\"\n",
    "OUTPUT_TMP_FILE_PATH_PREFIX = PATH + \"/../output/tmp/\"\n",
    "\n",
    "CONFIG_NUMBER = 10000"
   ]
  },
  {
   "cell_type": "code",
   "execution_count": 2,
   "id": "ab98e876-82f7-4120-b48c-3a90fd026ba9",
   "metadata": {},
   "outputs": [],
   "source": [
    "#!pip install Faker"
   ]
  },
  {
   "cell_type": "code",
   "execution_count": 3,
   "id": "14d99565-fce1-478a-bef1-982859553d60",
   "metadata": {},
   "outputs": [
    {
     "name": "stdout",
     "output_type": "stream",
     "text": [
      "23/01/05 11:31:14 WARN Utils: Your hostname, htknphuong-virtual-machine resolves to a loopback address: 127.0.1.1; using 192.168.142.129 instead (on interface ens33)\n",
      "23/01/05 11:31:14 WARN Utils: Set SPARK_LOCAL_IP if you need to bind to another address\n"
     ]
    },
    {
     "name": "stderr",
     "output_type": "stream",
     "text": [
      "Setting default log level to \"WARN\".\n",
      "To adjust logging level use sc.setLogLevel(newLevel). For SparkR, use setLogLevel(newLevel).\n"
     ]
    },
    {
     "name": "stdout",
     "output_type": "stream",
     "text": [
      "23/01/05 11:31:14 WARN NativeCodeLoader: Unable to load native-hadoop library for your platform... using builtin-java classes where applicable\n",
      "23/01/05 11:31:15 WARN Utils: Service 'SparkUI' could not bind on port 4040. Attempting port 4041.\n"
     ]
    }
   ],
   "source": [
    "import sys\n",
    "import pyspark\n",
    "from pyspark.sql import SparkSession, Row\n",
    "from pyspark.sql.types import StructType,StructField, StringType\n",
    "spark = SparkSession \\\n",
    "    .builder \\\n",
    "    .appName(\"Python Spark Customer Fact Generator\") \\\n",
    "    .getOrCreate()"
   ]
  },
  {
   "cell_type": "code",
   "execution_count": 4,
   "id": "893b0b34-99fc-4fe0-ad17-bdd7204f829e",
   "metadata": {},
   "outputs": [
    {
     "name": "stdout",
     "output_type": "stream",
     "text": [
      "-----------------\n",
      "accountid is exist\n",
      "begin loadingaccountid\n",
      "defaultaccountid is exist\n",
      "begin loadingdefaultaccountid\n",
      "transactionid is exist\n",
      "begin loadingtransactionid\n"
     ]
    }
   ],
   "source": [
    "##Reading the config from file for max id\n",
    "import os.path\n",
    "idConfig = {\n",
    "    \"accountid\": 10000000,\n",
    "    \"defaultaccountid\": 10000000,\n",
    "    \"transactionid\": 0\n",
    "}\n",
    "print('-----------------')\n",
    "for file in idConfig.keys():\n",
    "    file_exist = os.path.exists(CONFIG_FILE_PATH_PREFIX+file)\n",
    "    if (file_exist):\n",
    "        print(file + ' is exist')\n",
    "        print('begin loading' + file)\n",
    "        realFile = open(CONFIG_FILE_PATH_PREFIX+file,\"r\")\n",
    "        idConfig[file] = int(realFile.readlines()[0])\n",
    "        realFile.close()\n",
    "    else:\n",
    "        if (file not in [\"transactionid\"]):\n",
    "            print ('Please run CustomerFactGenerator first')\n",
    "            break\n",
    "        print(file + ' is not exist')\n",
    "        print('begin to creating ' + file)\n",
    "        realFile = open(CONFIG_FILE_PATH_PREFIX+file,\"w+\")\n",
    "        realFile.seek(0)\n",
    "        realFile.write(str(idConfig[file]))\n",
    "        realFile.close()"
   ]
  },
  {
   "cell_type": "code",
   "execution_count": 5,
   "id": "cd611695-b603-4fca-b63c-66d199c2e093",
   "metadata": {},
   "outputs": [
    {
     "name": "stdout",
     "output_type": "stream",
     "text": [
      "{'accountid': 10014006, 'defaultaccountid': 10000000, 'transactionid': 0}\n"
     ]
    }
   ],
   "source": [
    "print(idConfig)"
   ]
  },
  {
   "cell_type": "code",
   "execution_count": 8,
   "id": "f71e7d9c-06de-4226-833b-527fb72a6195",
   "metadata": {},
   "outputs": [],
   "source": [
    "import random\n",
    "import faker\n",
    "from datetime import datetime\n",
    "import re\n",
    "class TransactionObject:\n",
    "    TypeTransactionDim = {\n",
    "        1: \"cash withdrawals\",\n",
    "        2: \"checks\",\n",
    "        3: \"online payments\",\n",
    "        4: \"debitcard charges\",\n",
    "        5: \"wire transfers\",\n",
    "        6: \"loan payments\"\n",
    "    }\n",
    "    ConcurrencyDim = {\n",
    "        1: \"VND\",\n",
    "        2: \"USD\",\n",
    "        3: \"SIG\"\n",
    "    }\n",
    "    TransactionPointDim = {\n",
    "        1: \"ATM\",\n",
    "        2: \"BankingApp\",\n",
    "        3: \"PostMachine\"\n",
    "    }\n",
    "    fake = faker.Faker()\n",
    "\n",
    "    def __init__(self):\n",
    "        self.transactionid = idConfig[\"accountid\"]\n",
    "        idConfig[\"accountid\"] += 1\n",
    "        self.amount = random.randint(1, 10000)\n",
    "        self.timestamp = TransactionObject.fake.date()\n",
    "        __TypeTransactionDim = random.choice(list(TransactionObject.TypeTransactionDim.keys()))\n",
    "        self.typeTransaction = TransactionObject.TypeTransactionDim[__TypeTransactionDim]\n",
    "        #__concurrency = random.choice(list(TransactionObject.ConcurrencyDim.keys()))\n",
    "        #self.concurrency = TransactionObject.ConcurrencyDim[__concurrency]\n",
    "        self.concurrency = \"VND\"\n",
    "        __transactionpoint = random.choice(list(TransactionObject.TransactionPointDim.keys()))\n",
    "        self.transactionpoint = TransactionObject.TransactionPointDim[__transactionpoint]\n",
    "        __moneyMoveWay = random.choice([0,1])\n",
    "        if (__moneyMoveWay == 0):\n",
    "            self.destinationaccountid = TransactionObject.fake.credit_card_full()\n",
    "            self.sourceCardID = \"\"\n",
    "        else:\n",
    "            self.destinationaccountid = \"\"\n",
    "            self.sourceCardID = TransactionObject.fake.credit_card_full()\n",
    "        \n",
    "        self.exchangerate = 1\n",
    "        self.lattitude = random.uniform(-85, 85)\n",
    "        self.longtitude = random.uniform(-180, 180)\n",
    "\n",
    "\n",
    "    def toList(self):\n",
    "        return [Row(\n",
    "            self.transactionid,\n",
    "            self.amount,\n",
    "            self.timestamp,\n",
    "            self.typeTransaction,\n",
    "            self.concurrency,\n",
    "            self.transactionpoint,\n",
    "            self.destinationaccountid,\n",
    "            self.sourceCardID,\n",
    "            self.exchangerate,\n",
    "            self.lattitude,\n",
    "            self.longtitude\n",
    "            )]\n"
   ]
  },
  {
   "cell_type": "code",
   "execution_count": 9,
   "id": "86d26b9b-4b71-4a6b-8813-10754218bf95",
   "metadata": {},
   "outputs": [],
   "source": [
    "TransactionAccount = []\n",
    "for x in range(CONFIG_NUMBER):\n",
    "    Transaction = TransactionObject().toList()\n",
    "    TransactionAccount = TransactionAccount + Transaction"
   ]
  },
  {
   "cell_type": "code",
   "execution_count": 10,
   "id": "251b08e7-5e08-43b5-9e6e-fb4d53c2daa4",
   "metadata": {},
   "outputs": [],
   "source": [
    "FactTransactionColumns = StructType([\n",
    "    StructField(\"transactionid\", StringType(), True),\n",
    "    StructField(\"amount\", StringType(), True),\n",
    "    StructField(\"timestamp\", StringType(), True),\n",
    "    StructField(\"typeTransaction\", StringType(), True),\n",
    "    StructField(\"concurrency\", StringType(), True),\n",
    "    StructField(\"transactionpoint\", StringType(), True),\n",
    "    StructField(\"destinationaccountid\", StringType(), True),\n",
    "    StructField(\"sourceCardID\", StringType(), True),\n",
    "    StructField(\"exchangerate\", StringType(), True),\n",
    "    StructField(\"lattitude\", StringType(), True),\n",
    "    StructField(\"longtitude\", StringType(), True)\n",
    "    ])"
   ]
  },
  {
   "cell_type": "code",
   "execution_count": 11,
   "id": "1d7857b3-e534-4e7a-88bc-d75ff5971e90",
   "metadata": {
    "tags": []
   },
   "outputs": [],
   "source": [
    "MainDf = spark.createDataFrame(data=TransactionAccount, schema = FactTransactionColumns)"
   ]
  },
  {
   "cell_type": "code",
   "execution_count": 12,
   "id": "0c342c4a-150c-46f4-ad80-67bfec477788",
   "metadata": {},
   "outputs": [],
   "source": [
    "from datetime import datetime\n",
    "now = datetime.now()\n",
    "fileName = 'FactTransaction ' + now.strftime(\"%Y-%m-%d %H-%M-%S-%f\") "
   ]
  },
  {
   "cell_type": "code",
   "execution_count": 13,
   "id": "c4bd8685-c5ce-4b52-9a93-8b9e537bed00",
   "metadata": {},
   "outputs": [
    {
     "name": "stdout",
     "output_type": "stream",
     "text": [
      "FactTransaction 2023-01-05 11-31-47-202057\n"
     ]
    }
   ],
   "source": [
    "print(fileName)"
   ]
  },
  {
   "cell_type": "code",
   "execution_count": 14,
   "id": "711e21df-6844-4cbc-83ac-422bb000b028",
   "metadata": {},
   "outputs": [
    {
     "name": "stderr",
     "output_type": "stream",
     "text": [
      "                                                                                \r"
     ]
    }
   ],
   "source": [
    "MainDf.write.mode('overwrite').option(\"header\",\"true\").csv(OUTPUT_TMP_FILE_PATH_PREFIX + fileName)"
   ]
  },
  {
   "cell_type": "code",
   "execution_count": 15,
   "id": "92271101-1a94-4b1b-a828-2139c52a148c",
   "metadata": {},
   "outputs": [
    {
     "name": "stdout",
     "output_type": "stream",
     "text": [
      "begin to rewrite accountid\n",
      "-----------------\n",
      "begin to rewrite defaultaccountid\n",
      "-----------------\n",
      "begin to rewrite transactionid\n",
      "-----------------\n"
     ]
    }
   ],
   "source": [
    "for file in idConfig.keys():\n",
    "    print('begin to rewrite ' + file)\n",
    "    realFile = open(CONFIG_TMP_FILE_PATH_PREFIX+file,\"w+\")\n",
    "    realFile.seek(0)\n",
    "    realFile.write(str(idConfig[file]))\n",
    "    realFile.close()\n",
    "    print('-----------------')"
   ]
  },
  {
   "cell_type": "code",
   "execution_count": 16,
   "id": "556d2228-b5ab-45e9-813c-c56cb66575fe",
   "metadata": {},
   "outputs": [
    {
     "data": {
      "text/plain": [
       "'output/FactTransaction 2023-01-05 11-31-47-202057'"
      ]
     },
     "execution_count": 16,
     "metadata": {},
     "output_type": "execute_result"
    }
   ],
   "source": [
    "import shutil\n",
    "for file in idConfig.keys():\n",
    "    shutil.move(CONFIG_FILE_PATH_PREFIX+file, CONFIG_BACKUP_FILE_PATH_PREFIX+file)\n",
    "    shutil.move(CONFIG_TMP_FILE_PATH_PREFIX+file, CONFIG_FILE_PATH_PREFIX+file)\n",
    "shutil.move(OUTPUT_TMP_FILE_PATH_PREFIX + fileName, OUTPUT_FILE_PATH_PREFIX+fileName)"
   ]
  },
  {
   "cell_type": "code",
   "execution_count": null,
   "id": "ccc0d0dd-f02a-4e93-8595-c2bfd94aad43",
   "metadata": {},
   "outputs": [],
   "source": []
  }
 ],
 "metadata": {
  "kernelspec": {
   "display_name": "Python 3 (ipykernel)",
   "language": "python",
   "name": "python3"
  },
  "language_info": {
   "codemirror_mode": {
    "name": "ipython",
    "version": 3
   },
   "file_extension": ".py",
   "mimetype": "text/x-python",
   "name": "python",
   "nbconvert_exporter": "python",
   "pygments_lexer": "ipython3",
   "version": "3.10.6"
  },
  "vscode": {
   "interpreter": {
    "hash": "3c72dc4b149b9945ba564c0ae32c598721fd367340b26323fdffee558cf2dddf"
   }
  }
 },
 "nbformat": 4,
 "nbformat_minor": 5
}
