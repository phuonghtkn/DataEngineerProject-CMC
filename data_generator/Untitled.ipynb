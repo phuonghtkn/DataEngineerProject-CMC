{
 "cells": [
  {
   "cell_type": "code",
   "execution_count": 1,
   "id": "c4125b91-388c-46cd-8f31-62e28d0076ed",
   "metadata": {},
   "outputs": [],
   "source": [
    "import sys"
   ]
  },
  {
   "cell_type": "code",
   "execution_count": 6,
   "id": "e5c3eb6d-5ae0-495b-b3cf-4f425f7427b9",
   "metadata": {},
   "outputs": [
    {
     "name": "stdout",
     "output_type": "stream",
     "text": [
      "abc\n"
     ]
    }
   ],
   "source": []
  },
  {
   "cell_type": "code",
   "execution_count": 17,
   "id": "d0ece586-920b-4e3c-8c8c-55e022606d8a",
   "metadata": {},
   "outputs": [
    {
     "name": "stdout",
     "output_type": "stream",
     "text": [
      "1\n",
      "1\n",
      "<class 'dict'>\n",
      "['a', 'b']\n"
     ]
    }
   ],
   "source": [
    "class C:\n",
    "    def __init__(self):\n",
    "        self.a = 1\n",
    "        self.b = 2\n",
    "    def test(self):\n",
    "        __c = 1\n",
    "        print(__c)\n",
    "\n",
    "a_object = C()\n",
    "instance_variables = vars(a_object)\n",
    "\n",
    "a_object.test()\n",
    "\n",
    "print(a_object.a)\n",
    "\n",
    "print(type(instance_variables))\n",
    "print(list(instance_variables.keys()))"
   ]
  },
  {
   "cell_type": "code",
   "execution_count": 3,
   "id": "a18dd784-c520-4aaf-a3d0-b0efc9f14d39",
   "metadata": {},
   "outputs": [
    {
     "name": "stdout",
     "output_type": "stream",
     "text": [
      "1\n"
     ]
    }
   ],
   "source": [
    "print(a_object.a)"
   ]
  },
  {
   "cell_type": "code",
   "execution_count": null,
   "id": "0beefde3-ae5e-4f87-bb8b-8ced0536d543",
   "metadata": {},
   "outputs": [],
   "source": []
  }
 ],
 "metadata": {
  "kernelspec": {
   "display_name": "Python 3 (ipykernel)",
   "language": "python",
   "name": "python3"
  },
  "language_info": {
   "codemirror_mode": {
    "name": "ipython",
    "version": 3
   },
   "file_extension": ".py",
   "mimetype": "text/x-python",
   "name": "python",
   "nbconvert_exporter": "python",
   "pygments_lexer": "ipython3",
   "version": "3.10.6"
  }
 },
 "nbformat": 4,
 "nbformat_minor": 5
}
